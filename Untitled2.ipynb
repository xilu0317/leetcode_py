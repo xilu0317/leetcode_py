{
 "cells": [
  {
   "cell_type": "code",
   "execution_count": 21,
   "metadata": {},
   "outputs": [
    {
     "name": "stdout",
     "output_type": "stream",
     "text": [
      "['fuck', 1, 3, 8]\n"
     ]
    }
   ],
   "source": [
    "a = [1, 3, 8]\n",
    "b = [3, 5]\n",
    "\n",
    "s, e = b[0], b[1]\n",
    "for i in range(len(a)):\n",
    "    new_interval = []\n",
    "    if a[i][0] <= s <= a[i][1] or a[i][0] <= e <= a[i][1]:\n",
    "        a[i][0] = min(s, a[i][0])\n",
    "        a[]\n",
    "\n",
    "a.insert(0,'fuck')\n",
    "\n",
    "print(a)\n",
    "\n",
    "\n",
    "\n",
    "\n",
    "\n",
    "\n",
    "\n",
    "\n",
    "\n"
   ]
  }
 ],
 "metadata": {
  "kernelspec": {
   "display_name": "Python 3",
   "language": "python",
   "name": "python3"
  },
  "language_info": {
   "codemirror_mode": {
    "name": "ipython",
    "version": 3
   },
   "file_extension": ".py",
   "mimetype": "text/x-python",
   "name": "python",
   "nbconvert_exporter": "python",
   "pygments_lexer": "ipython3",
   "version": "3.8.0"
  }
 },
 "nbformat": 4,
 "nbformat_minor": 2
}
